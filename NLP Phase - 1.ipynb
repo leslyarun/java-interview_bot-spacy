{
 "cells": [
  {
   "cell_type": "code",
   "execution_count": 1,
   "metadata": {
    "collapsed": true
   },
   "outputs": [],
   "source": [
    "import numpy as np"
   ]
  },
  {
   "cell_type": "code",
   "execution_count": 2,
   "metadata": {
    "collapsed": true
   },
   "outputs": [],
   "source": [
    "import pandas as pd"
   ]
  },
  {
   "cell_type": "code",
   "execution_count": 3,
   "metadata": {
    "collapsed": true
   },
   "outputs": [],
   "source": [
    "import spacy\n",
    "from spacy import displacy\n",
    "\n",
    "nlp = spacy.load('en_core_web_lg')\n"
   ]
  },
  {
   "cell_type": "code",
   "execution_count": 4,
   "metadata": {},
   "outputs": [],
   "source": [
    "df = pd.read_excel(r\"C:\\Users\\Desktop\\java_sample-qs.xlsx\")"
   ]
  },
  {
   "cell_type": "code",
   "execution_count": 5,
   "metadata": {},
   "outputs": [
    {
     "data": {
      "text/html": [
       "<div>\n",
       "<style>\n",
       "    .dataframe thead tr:only-child th {\n",
       "        text-align: right;\n",
       "    }\n",
       "\n",
       "    .dataframe thead th {\n",
       "        text-align: left;\n",
       "    }\n",
       "\n",
       "    .dataframe tbody tr th {\n",
       "        vertical-align: top;\n",
       "    }\n",
       "</style>\n",
       "<table border=\"1\" class=\"dataframe\">\n",
       "  <thead>\n",
       "    <tr style=\"text-align: right;\">\n",
       "      <th></th>\n",
       "      <th>Question</th>\n",
       "      <th>Answer</th>\n",
       "      <th>Keywords</th>\n",
       "    </tr>\n",
       "  </thead>\n",
       "  <tbody>\n",
       "    <tr>\n",
       "      <th>0</th>\n",
       "      <td>What is static keyword?</td>\n",
       "      <td>static keyword can be used with class level va...</td>\n",
       "      <td>class level global</td>\n",
       "    </tr>\n",
       "    <tr>\n",
       "      <th>1</th>\n",
       "      <td>What is Java Annotations?</td>\n",
       "      <td>Java Annotations provide information about the...</td>\n",
       "      <td>metadata @</td>\n",
       "    </tr>\n",
       "    <tr>\n",
       "      <th>2</th>\n",
       "      <td>What is inner class in java?</td>\n",
       "      <td>We can define a class inside a class and they ...</td>\n",
       "      <td>nested non static</td>\n",
       "    </tr>\n",
       "    <tr>\n",
       "      <th>3</th>\n",
       "      <td>What is anonymous inner class?</td>\n",
       "      <td>A local inner class without name is known as a...</td>\n",
       "      <td>without name nameless single</td>\n",
       "    </tr>\n",
       "    <tr>\n",
       "      <th>4</th>\n",
       "      <td>What is default constructor?</td>\n",
       "      <td>No argument constructor of a class is known as...</td>\n",
       "      <td>no argumjent no-args</td>\n",
       "    </tr>\n",
       "    <tr>\n",
       "      <th>5</th>\n",
       "      <td>What are access modifiers?</td>\n",
       "      <td>Java provides access control through public, p...</td>\n",
       "      <td>public private protected</td>\n",
       "    </tr>\n",
       "    <tr>\n",
       "      <th>6</th>\n",
       "      <td>Which class is the superclass of all classes?</td>\n",
       "      <td>java.lang.Object is the root class for all the...</td>\n",
       "      <td>java.lang.Object</td>\n",
       "    </tr>\n",
       "    <tr>\n",
       "      <th>7</th>\n",
       "      <td>What is immutable object? Can you write immuta...</td>\n",
       "      <td>Immutable classes are Java classes whose objec...</td>\n",
       "      <td>cannot modified final</td>\n",
       "    </tr>\n",
       "    <tr>\n",
       "      <th>8</th>\n",
       "      <td>What is the difference between creating String...</td>\n",
       "      <td>When we create string with new() Operator, it’...</td>\n",
       "      <td>new() heap pool permgen String.intern()</td>\n",
       "    </tr>\n",
       "    <tr>\n",
       "      <th>9</th>\n",
       "      <td>What is difference between Executor.submit() a...</td>\n",
       "      <td>There is a difference when looking at exceptio...</td>\n",
       "      <td>uncaught exception Future.get</td>\n",
       "    </tr>\n",
       "    <tr>\n",
       "      <th>10</th>\n",
       "      <td>When do you override hashcode and equals() ?</td>\n",
       "      <td>Whenever necessary especially if you want to d...</td>\n",
       "      <td>equality check key hashmap</td>\n",
       "    </tr>\n",
       "    <tr>\n",
       "      <th>11</th>\n",
       "      <td>Why is Java called the ‘Platform Independent P...</td>\n",
       "      <td>Platform independence means that execution of ...</td>\n",
       "      <td>depend byte code jvm compiler</td>\n",
       "    </tr>\n",
       "    <tr>\n",
       "      <th>12</th>\n",
       "      <td>What is the difference between StringBuffer an...</td>\n",
       "      <td>String is an Immutable class, i.e. you can not...</td>\n",
       "      <td>immutable mutable change content</td>\n",
       "    </tr>\n",
       "    <tr>\n",
       "      <th>13</th>\n",
       "      <td>Can a top level class be private or protected?</td>\n",
       "      <td>Top level classes in java can’t be private or ...</td>\n",
       "      <td>inner class package inhertitance</td>\n",
       "    </tr>\n",
       "  </tbody>\n",
       "</table>\n",
       "</div>"
      ],
      "text/plain": [
       "                                             Question  \\\n",
       "0                             What is static keyword?   \n",
       "1                           What is Java Annotations?   \n",
       "2                        What is inner class in java?   \n",
       "3                      What is anonymous inner class?   \n",
       "4                        What is default constructor?   \n",
       "5                          What are access modifiers?   \n",
       "6       Which class is the superclass of all classes?   \n",
       "7   What is immutable object? Can you write immuta...   \n",
       "8   What is the difference between creating String...   \n",
       "9   What is difference between Executor.submit() a...   \n",
       "10       When do you override hashcode and equals() ?   \n",
       "11  Why is Java called the ‘Platform Independent P...   \n",
       "12  What is the difference between StringBuffer an...   \n",
       "13     Can a top level class be private or protected?   \n",
       "\n",
       "                                               Answer  \\\n",
       "0   static keyword can be used with class level va...   \n",
       "1   Java Annotations provide information about the...   \n",
       "2   We can define a class inside a class and they ...   \n",
       "3   A local inner class without name is known as a...   \n",
       "4   No argument constructor of a class is known as...   \n",
       "5   Java provides access control through public, p...   \n",
       "6   java.lang.Object is the root class for all the...   \n",
       "7   Immutable classes are Java classes whose objec...   \n",
       "8   When we create string with new() Operator, it’...   \n",
       "9   There is a difference when looking at exceptio...   \n",
       "10  Whenever necessary especially if you want to d...   \n",
       "11  Platform independence means that execution of ...   \n",
       "12  String is an Immutable class, i.e. you can not...   \n",
       "13  Top level classes in java can’t be private or ...   \n",
       "\n",
       "                                   Keywords  \n",
       "0                        class level global  \n",
       "1                                metadata @  \n",
       "2                        nested non static   \n",
       "3             without name nameless single   \n",
       "4                     no argumjent no-args   \n",
       "5                  public private protected  \n",
       "6                          java.lang.Object  \n",
       "7                    cannot modified final   \n",
       "8   new() heap pool permgen String.intern()  \n",
       "9             uncaught exception Future.get  \n",
       "10               equality check key hashmap  \n",
       "11           depend byte code jvm compiler   \n",
       "12        immutable mutable change content   \n",
       "13        inner class package inhertitance   "
      ]
     },
     "execution_count": 5,
     "metadata": {},
     "output_type": "execute_result"
    }
   ],
   "source": [
    "df"
   ]
  },
  {
   "cell_type": "code",
   "execution_count": 6,
   "metadata": {},
   "outputs": [
    {
     "data": {
      "text/plain": [
       "11"
      ]
     },
     "execution_count": 6,
     "metadata": {},
     "output_type": "execute_result"
    }
   ],
   "source": [
    "qs_idx =  np.random.randint(0, 15)\n",
    "qs_idx"
   ]
  },
  {
   "cell_type": "code",
   "execution_count": 7,
   "metadata": {},
   "outputs": [
    {
     "data": {
      "text/plain": [
       "'Why is Java called the ‘Platform Independent Programming Language’?'"
      ]
     },
     "execution_count": 7,
     "metadata": {},
     "output_type": "execute_result"
    }
   ],
   "source": [
    "qs = df['Question'][qs_idx]\n",
    "qs"
   ]
  },
  {
   "cell_type": "code",
   "execution_count": 8,
   "metadata": {},
   "outputs": [
    {
     "name": "stdout",
     "output_type": "stream",
     "text": [
      "does not depend on os\n"
     ]
    }
   ],
   "source": [
    "ans = input()"
   ]
  },
  {
   "cell_type": "code",
   "execution_count": 9,
   "metadata": {},
   "outputs": [
    {
     "data": {
      "text/plain": [
       "'does not depend on os'"
      ]
     },
     "execution_count": 9,
     "metadata": {},
     "output_type": "execute_result"
    }
   ],
   "source": [
    "ans"
   ]
  },
  {
   "cell_type": "code",
   "execution_count": 10,
   "metadata": {
    "collapsed": true
   },
   "outputs": [],
   "source": [
    "ans_tokens = nlp(ans)"
   ]
  },
  {
   "cell_type": "code",
   "execution_count": 11,
   "metadata": {},
   "outputs": [
    {
     "data": {
      "text/plain": [
       "does not depend on os"
      ]
     },
     "execution_count": 11,
     "metadata": {},
     "output_type": "execute_result"
    }
   ],
   "source": [
    "ans_tokens"
   ]
  },
  {
   "cell_type": "code",
   "execution_count": 12,
   "metadata": {},
   "outputs": [
    {
     "name": "stdout",
     "output_type": "stream",
     "text": [
      "original answer = Platform independence means that execution of your program does not dependent on type of operating system(it could be any : Linux, windows, Mac ..etc). So compile code only once and run it on any System (In C/C++, we need to compile the code for every machine on which we run it). Java is both compiler(javac) and interpreter(jvm) based lauguage. Your java source code is first compiled into byte code using javac compiler. This byte code can be easily converted to equivalent machine code using JVM. JVM(Java Virtual Machine) is available in all operating systems we install. Hence, byte code generated by javac is universal and can be converted to machine code on any operating system, this is the reason why java is platform independent.\n",
      "\n",
      "\n",
      "user's answer = does not depend on os\n"
     ]
    }
   ],
   "source": [
    "orig_ans = df['Answer'][qs_idx]\n",
    "orig_ans_tokens = nlp(orig_ans)\n",
    "print('original answer =', orig_ans)\n",
    "print(\"\\n\")\n",
    "print(\"user's answer =\", ans)\n"
   ]
  },
  {
   "cell_type": "code",
   "execution_count": 13,
   "metadata": {},
   "outputs": [
    {
     "data": {
      "text/plain": [
       "0.81761544112571527"
      ]
     },
     "execution_count": 13,
     "metadata": {},
     "output_type": "execute_result"
    }
   ],
   "source": [
    "# Check Similarity\n",
    "ans_tokens.similarity(orig_ans_tokens)"
   ]
  },
  {
   "cell_type": "code",
   "execution_count": 19,
   "metadata": {},
   "outputs": [
    {
     "data": {
      "text/plain": [
       "depend byte code jvm compiler "
      ]
     },
     "execution_count": 19,
     "metadata": {},
     "output_type": "execute_result"
    }
   ],
   "source": [
    "# Keywords matching - Answer tokens vs keywords to produce a score\n",
    "keywords = df['Keywords'][qs_idx]\n",
    "keywords = nlp(keywords)\n",
    "keywords"
   ]
  },
  {
   "cell_type": "code",
   "execution_count": 22,
   "metadata": {},
   "outputs": [],
   "source": [
    "score = keywords.similarity(ans_tokens)"
   ]
  },
  {
   "cell_type": "code",
   "execution_count": 23,
   "metadata": {},
   "outputs": [
    {
     "data": {
      "text/plain": [
       "0.43578070938013796"
      ]
     },
     "execution_count": 23,
     "metadata": {},
     "output_type": "execute_result"
    }
   ],
   "source": [
    "# Score for user's answer\n",
    "score"
   ]
  },
  {
   "cell_type": "code",
   "execution_count": 53,
   "metadata": {},
   "outputs": [
    {
     "name": "stdout",
     "output_type": "stream",
     "text": [
      "depend is found in answer\n",
      "matches =  1\n"
     ]
    }
   ],
   "source": [
    "# Another approach to calculate score\n",
    "matches = 0\n",
    "for k in keywords.text.split():\n",
    "    if k in list(ans_tokens.text.split()):\n",
    "        print(k,'is found in answer')\n",
    "        matches+= 1\n",
    "print('matches = ', matches)"
   ]
  },
  {
   "cell_type": "code",
   "execution_count": 60,
   "metadata": {},
   "outputs": [],
   "source": [
    "# Alternate score\n",
    "total = len(keywords)\n",
    "alt_score = total//matches "
   ]
  },
  {
   "cell_type": "code",
   "execution_count": 61,
   "metadata": {},
   "outputs": [
    {
     "data": {
      "text/plain": [
       "5"
      ]
     },
     "execution_count": 61,
     "metadata": {},
     "output_type": "execute_result"
    }
   ],
   "source": [
    "alt_score"
   ]
  },
  {
   "cell_type": "code",
   "execution_count": null,
   "metadata": {
    "collapsed": true
   },
   "outputs": [],
   "source": []
  }
 ],
 "metadata": {
  "kernelspec": {
   "display_name": "Python 3",
   "language": "python",
   "name": "python3"
  },
  "language_info": {
   "codemirror_mode": {
    "name": "ipython",
    "version": 3
   },
   "file_extension": ".py",
   "mimetype": "text/x-python",
   "name": "python",
   "nbconvert_exporter": "python",
   "pygments_lexer": "ipython3",
   "version": "3.6.2"
  }
 },
 "nbformat": 4,
 "nbformat_minor": 2
}
